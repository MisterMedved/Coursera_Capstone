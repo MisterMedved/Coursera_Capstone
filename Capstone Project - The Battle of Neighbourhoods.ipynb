{
    "nbformat_minor": 1, 
    "cells": [
        {
            "source": "# Capstone Project - The Battle of Neighbourhoods \n             \n             ( The story of how Jone Doe thought what to do next)", 
            "cell_type": "markdown", 
            "metadata": {
                "collapsed": true
            }
        }, 
        {
            "source": "### Introduction ", 
            "cell_type": "markdown", 
            "metadata": {}
        }, 
        {
            "source": "Jone Doe was a regular guy, 30 years old, until one day he won a large amount of money in the lottery. \nAnd here is, as any 30 year-old guy, he understood, that it is time implement its dream, about which so often they talked with friends. \nWhat was that dream? You're right, open a Best Bar ( something in between where white-collar workers would feel just like hipsters ). \nBar, that's Jone's dream. Now it remains to determine where it is better to do in the USA.\n", 
            "cell_type": "markdown", 
            "metadata": {}
        }, 
        {
            "source": "As a friend of John's, I suggest he make a choice based on the following categories:", 
            "cell_type": "markdown", 
            "metadata": {}
        }, 
        {
            "source": "- The population density of the settlement\n- Per capita income \n- Population of each place\n- Venues in each locality", 
            "cell_type": "markdown", 
            "metadata": {}
        }, 
        {
            "source": "Category of places that interest him:", 
            "cell_type": "markdown", 
            "metadata": {}
        }, 
        {
            "source": "- Food\n- Nightife Spot\n- Event\n- Arts and Entertainment\n- Shops & Service\n- College and University\n- Outdoors & Recreation\n- Professional & Other places\n- Residence\n- Travel & Transport", 
            "cell_type": "markdown", 
            "metadata": {}
        }, 
        {
            "source": "## Information", 
            "cell_type": "markdown", 
            "metadata": {}
        }, 
        {
            "source": "But for all that, we need data. A lot of data, but where do we get it? Right, if you don't know anything, go to the Wiki. And from there we will take our data.", 
            "cell_type": "markdown", 
            "metadata": {}
        }, 
        {
            "source": "List of all the cities in United States with population density and coordinates:", 
            "cell_type": "markdown", 
            "metadata": {}
        }, 
        {
            "source": "https://en.wikipedia.org/wiki/List_of_United_States_cities_by_population\n", 
            "cell_type": "markdown", 
            "metadata": {}
        }, 
        {
            "source": "\nList of all the cities in United States with Per Capita Income :", 
            "cell_type": "markdown", 
            "metadata": {}
        }, 
        {
            "source": "https://en.wikipedia.org/wiki/List_of_United_States_counties_by_per_capita_income", 
            "cell_type": "markdown", 
            "metadata": {}
        }, 
        {
            "source": "And also our favorite Four Square API", 
            "cell_type": "markdown", 
            "metadata": {}
        }, 
        {
            "source": "- List of all venues in each city\n- List of all venues in each locality in the selected city", 
            "cell_type": "markdown", 
            "metadata": {}
        }, 
        {
            "source": "Using the above data we will first select best city to proceed with based on the values like Population density, per capita income of the state, number of venues (as we are giving weights to each venue based on its category).\n\nOnce we select a city, we then go hunting for Localities. Again, we do it using the same approach i.e. based on the scores of venues in each locality. ", 
            "cell_type": "markdown", 
            "metadata": {}
        }, 
        {
            "source": "", 
            "cell_type": "code", 
            "metadata": {}, 
            "outputs": [], 
            "execution_count": null
        }
    ], 
    "metadata": {
        "kernelspec": {
            "display_name": "Python 3.6", 
            "name": "python3", 
            "language": "python"
        }, 
        "language_info": {
            "mimetype": "text/x-python", 
            "nbconvert_exporter": "python", 
            "version": "3.6.8", 
            "name": "python", 
            "pygments_lexer": "ipython3", 
            "file_extension": ".py", 
            "codemirror_mode": {
                "version": 3, 
                "name": "ipython"
            }
        }
    }, 
    "nbformat": 4
}